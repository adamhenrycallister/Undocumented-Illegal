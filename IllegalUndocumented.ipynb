{
 "cells": [
  {
   "cell_type": "markdown",
   "metadata": {},
   "source": [
    "## \"Illegal Immigrant\" vs \"Undocumented Immigrant\""
   ]
  },
  {
   "cell_type": "markdown",
   "metadata": {},
   "source": [
    "Drawing on data from the Corpus of Contemporary American English and a survey experiment conducted in April of 2019, I test the theory that using the term \"illegal immigrant\" instead of \"undocumented immigrant\" causes people to favor more restrictive immigration policies and dehumanize immigrants. "
   ]
  },
  {
   "cell_type": "code",
   "execution_count": 1,
   "metadata": {
    "code_folding": []
   },
   "outputs": [],
   "source": [
    "# imports\n",
    "import pandas as pd\n",
    "import numpy as np\n",
    "from matplotlib import pyplot as plt\n",
    "import seaborn as sns\n",
    "import statsmodels.formula.api as sm\n",
    "import numpy.linalg as ln\n",
    "import scipy.stats as st\n"
   ]
  },
  {
   "cell_type": "markdown",
   "metadata": {},
   "source": [
    "### Corpus Data"
   ]
  },
  {
   "cell_type": "markdown",
   "metadata": {},
   "source": [
    "I first read in the data I scraped from the Corpus of Contemporary American English (COCA). To get this data, I searched COCA for the terms \"illegal immigrant,\" \"illegal immigrants,\" \"illegal immigration,\" \"undocumented immigrant,\" \"undocumented immigrants,\" and \"undocumented immigration.\" For each result, I recorded the context in which the term was used, its source type, and the year. \n",
    "\n",
    "I also used a sentiment analysis algorithm from Python's TextBlob library to record the polarity of the context in which each result was used. Polarity scores are between -1 and 1 inclusive. Overall positive statements have a positive score, overall negative statements have a negative score, and net neutral statements have a score of zero.\n",
    "\n",
    "The code that I used to scrape data from COCA's website can be found in the \"ScrapeCOCA.py\" file. \n"
   ]
  },
  {
   "cell_type": "code",
   "execution_count": 2,
   "metadata": {
    "code_folding": []
   },
   "outputs": [],
   "source": [
    "# read in data from the Corpus of Contemporary American English\n",
    "illegalimmigrant = pd.read_csv(\"ILLEGAL IMMIGRANT.csv\")\n",
    "illegalimmigrants = pd.read_csv(\"ILLEGAL IMMIGRANTS.csv\")\n",
    "illegalimmigration = pd.read_csv(\"ILLEGAL IMMIGRATION.csv\")\n",
    "illegalData = pd.concat([illegalimmigrant, illegalimmigrants, illegalimmigration])\n",
    "\n",
    "undocumentedimmigrant = pd.read_csv(\"UNDOCUMENTED IMMIGRANT.csv\")\n",
    "undocumentedimmigrants = pd.read_csv(\"UNDOCUMENTED IMMIGRANTS.csv\")\n",
    "undocumentedimmigration = pd.read_csv(\"UNDOCUMENTED IMMIGRATION.csv\")\n",
    "undocumentedData = pd.concat([undocumentedimmigrant, undocumentedimmigrant, undocumentedimmigration])\n"
   ]
  },
  {
   "cell_type": "markdown",
   "metadata": {},
   "source": [
    "After reading in the data, I combine the three terms that use \"illegal\" into a single dataframe and the three terms that use \"undocumented\" into another dataframe. From now on, I'll simply refer to the term \"illegal immigrant\" and the term \"undocumented immigrant\" even though both of these contain their respective \"immigrants\" and \"immigration\" variants as well."
   ]
  },
  {
   "cell_type": "code",
   "execution_count": 3,
   "metadata": {
    "code_folding": []
   },
   "outputs": [],
   "source": [
    "# find the mean polarity, mean subjectivity, and count for the terms \"illegal immigrant\" and \"undocumented immigrant\" from 1990 to 2017\n",
    "yearData = pd.DataFrame({'Year': [x for x in range(1990,2018)]})\n",
    "for word in [(illegalData, 'illegal'), (undocumentedData, 'undocumented')]:\n",
    "    mean_polarity = []\n",
    "    mean_subjectivity = []\n",
    "    volume = []\n",
    "    ACAD = []\n",
    "    FIC = []\n",
    "    MAG = []\n",
    "    NEWS = []\n",
    "    SPOK = []\n",
    "    ACAD_count = []\n",
    "    FIC_count = []\n",
    "    MAG_count = []\n",
    "    NEWS_count = []\n",
    "    SPOK_count = []\n",
    "    for x in range(1990, 2018):\n",
    "        mean_polarity.append(word[0][word[0]['Year'] == x]['Polarity'].mean())\n",
    "        mean_subjectivity.append(word[0][word[0]['Year'] == x]['Subjectivity'].mean())\n",
    "        volume.append(word[0][word[0]['Year'] == x].shape[0])\n",
    "        for name in [(ACAD, 'ACAD', ACAD_count), (FIC, 'FIC', FIC_count), (MAG,'MAG',MAG_count), (NEWS,'NEWS',NEWS_count), (SPOK,'SPOK',SPOK_count)]:\n",
    "            name[2].append((word[0][(word[0]['Year'] == x) & (word[0]['Type'] == name[1])]).shape[0])\n",
    "            if len(word[0][(word[0]['Year'] == x) & (word[0]['Type'] == name[1])]['Polarity']) != 0:\n",
    "                name[0].append((word[0][(word[0]['Year'] == x) & (word[0]['Type'] == name[1])]['Polarity']).mean()) \n",
    "            else:\n",
    "                name[0].append(np.nan)\n",
    "    temp = pd.DataFrame({'Year': [x for x in range(1990, 2018)], word[1] + 'P': mean_polarity, word[1] + 'S': mean_subjectivity, word[1] + 'Volume': volume, word[1] + 'ACADP': ACAD, word[1] + 'FICP': FIC, word[1] + 'MAGP': MAG, word[1] + 'NEWSP': NEWS, word[1] + 'SPOKP': SPOK, word[1] + 'ACADV': ACAD_count, word[1] + 'FICV': FIC_count, word[1] + 'MAGV': MAG_count, word[1] + 'NEWSV': NEWS_count, word[1] + 'SPOKV': SPOK_count} )\n",
    "    yearData = pd.merge(yearData, temp)\n"
   ]
  },
  {
   "cell_type": "code",
   "execution_count": 4,
   "metadata": {
    "code_folding": []
   },
   "outputs": [
    {
     "data": {
      "text/plain": [
       "Text(0.5, 1.0, 'Figure 1: Frequency of \"Undocumented\" and \"Illegal\" Over Time')"
      ]
     },
     "execution_count": 4,
     "metadata": {},
     "output_type": "execute_result"
    },
    {
     "data": {
      "image/png": "[encoded data removed]",
      "text/plain": [
       "<Figure size 432x288 with 1 Axes>"
      ]
     },
     "metadata": {
      "needs_background": "light"
     },
     "output_type": "display_data"
    }
   ],
   "source": [
    "# plot the frequency of the terms \"undocumented immigrant\" and \"illegal immigrant\" over time\n",
    "ax1 = yearData.plot(x = 'Year', color = ['red','darkblue'], y = ['illegalVolume','undocumentedVolume'], label = ['\\\"Illegal\\\"','\\\"Undocumented\\\"'])\n",
    "ax1.set_xlabel('Year')\n",
    "ax1.set_ylabel('Frequency')\n",
    "ax1.set_facecolor('ghostwhite')\n",
    "ax1.set_title('Figure 1: Frequency of \\\"Undocumented\\\" and \\\"Illegal\\\" Over Time')\n"
   ]
  },
  {
   "cell_type": "markdown",
   "metadata": {},
   "source": [
    "The graph above shows the frequency of the two terms over time. The term \"illegal immigrant\" is a lot more common than the term \"undocumented immigrant.\" "
   ]
  },
  {
   "cell_type": "code",
   "execution_count": 5,
   "metadata": {
    "code_folding": []
   },
   "outputs": [
    {
     "data": {
      "text/plain": [
       "Text(0.5, 1.0, 'Figure 2: Frequency of \"Undocumented\" Over Time by Source Type')"
      ]
     },
     "execution_count": 5,
     "metadata": {},
     "output_type": "execute_result"
    },
    {
     "data": {
      "image/png": "[encoded data removed]",
      "text/plain": [
       "<Figure size 576x576 with 1 Axes>"
      ]
     },
     "metadata": {
      "needs_background": "light"
     },
     "output_type": "display_data"
    }
   ],
   "source": [
    "# plot the frequency of the term \"undocumented immigrant\" by source type over time\n",
    "year = ['1990-\\n1993','1994-\\n1997','1998-\\n2001','2002-\\n2005', '2006-\\n2009', '2010-\\n2013', '2014-\\n2017']\n",
    "total = []\n",
    "academic = []\n",
    "fiction = []\n",
    "mag = []\n",
    "news = []\n",
    "spoken = []\n",
    "for x in range(7):\n",
    "    new = yearData[(yearData['Year'] >= (1990 + 4*x)) & (yearData['Year'] < 1990 + 4*(x+1))]\n",
    "    total.append(new['undocumentedVolume'].sum())\n",
    "    academic.append(new['undocumentedACADV'].sum())\n",
    "    fiction.append(new['undocumentedFICV'].sum())\n",
    "    mag.append(new['undocumentedMAGV'].sum())\n",
    "    news.append(new['undocumentedNEWSV'].sum())\n",
    "    spoken.append(new['undocumentedSPOKV'].sum())\n",
    "tempData = pd.DataFrame({'Year': year,'Total': total, 'Academic': academic, 'Fiction': fiction, 'Magazines': mag, 'News': news, 'Spoken': spoken})\n",
    "\n",
    "ax2 = tempData.plot(kind = 'bar', x = 'Year', figsize=(8,8), width=.9, color = ['darkblue','darkviolet','darkorange','darkred','darkcyan','darkgoldenrod'], y = ['Total','Spoken','News','Academic','Magazines','Fiction'])\n",
    "ax2.set_xlabel('Year')\n",
    "ax2.set_ylabel('Frequency')\n",
    "ax2.set_facecolor('ghostwhite')\n",
    "ax2.set_title('Figure 2: Frequency of \\\"Undocumented\\\" Over Time by Source Type')\n"
   ]
  },
  {
   "cell_type": "markdown",
   "metadata": {},
   "source": [
    "This next graph shows only the frequency of the term \"undocumented immigrant\" over time split by source type. The change in scale reveals that, although the term \"undocumented immigrant\" is not as common as the term \"illegal immigrant,\" it has steadily increased in popularity over the years. Also, it looks as though term was originally used in academic contexts and has slowly gained traction in other areas. "
   ]
  },
  {
   "cell_type": "code",
   "execution_count": 6,
   "metadata": {
    "code_folding": []
   },
   "outputs": [
    {
     "data": {
      "text/plain": [
       "Text(0.5, 1.0, 'Figure 3: Mean Polarity of \"Undocumented\" and \"Illegal\" Over Time')"
      ]
     },
     "execution_count": 6,
     "metadata": {},
     "output_type": "execute_result"
    },
    {
     "data": {
      "image/png": "[encoded data removed]",
      "text/plain": [
       "<Figure size 432x288 with 1 Axes>"
      ]
     },
     "metadata": {
      "needs_background": "light"
     },
     "output_type": "display_data"
    }
   ],
   "source": [
    "# plot the mean polarity of the terms \"undocumented immigrant\" and \"illegal immigrant\" over time\n",
    "ax = yearData.plot(x = 'Year', color = ['darkblue','red'], y = ['undocumentedP','illegalP'], label = ['\\\"Undocumented\\\"','\\\"Illegal\\\"'])\n",
    "ax.set_xlabel('Year')\n",
    "ax.set_ylabel('Mean Polarity')\n",
    "ax.set_facecolor('ghostwhite')\n",
    "ax.set_title('Figure 3: Mean Polarity of \\\"Undocumented\\\" and \\\"Illegal\\\" Over Time')\n"
   ]
  },
  {
   "cell_type": "markdown",
   "metadata": {},
   "source": [
    "This graph shows the mean polarity of the term \"illegal immigrant\" as compared with the term \"undocumented immigrant\" over time. The term \"illegal immigrant\" is consistently used in more negative contexts than the term \"undocumented immigrant.\" "
   ]
  },
  {
   "cell_type": "code",
   "execution_count": 7,
   "metadata": {
    "code_folding": []
   },
   "outputs": [
    {
     "name": "stdout",
     "output_type": "stream",
     "text": [
      "\t\t\t\t\"Undocumented\" \t\t\"Illegal\"\n",
      "Number:\t\t\t\t 275 \t\t\t 5156\n",
      "Mean Polarity:\t\t\t 0.03447 \t\t -0.18884\n",
      "Standard Deviation:\t\t 0.22919 \t\t 0.1976\n",
      "Difference-in-Means Test p-vaule:\t 3.621591607209658e-71\n"
     ]
    }
   ],
   "source": [
    "# difference in means test for overall mean polarity of the term \"illegal immigrant\" and overall mean polarity of the term \"undocumented immigrant\"\n",
    "u = undocumentedData['Polarity']\n",
    "i = illegalData['Polarity']\n",
    "print('\\t\\t\\t\\t\\\"Undocumented\\\"','\\t\\t\\\"Illegal\\\"')\n",
    "print('Number:\\t\\t\\t\\t', len(u),'\\t\\t\\t', len(i))\n",
    "print('Mean Polarity:\\t\\t\\t', round(u.mean(),5), '\\t\\t', round(i.mean(),5))\n",
    "print('Standard Deviation:\\t\\t', round(u.std(),5), '\\t\\t', round(i.std(),5))\n",
    "print('Difference-in-Means Test p-vaule:\\t', st.ttest_ind(u,i)[1])\n",
    "\n"
   ]
  },
  {
   "cell_type": "markdown",
   "metadata": {},
   "source": [
    "I perform a difference in means test on the overall mean polarity of the term \"illegal immigrant\" and the overall mean polarity of the term \"undocumented immigrant.\" The resulting p-value is approximately zero. This implies that there is a significant difference in the mean polarities of the two terms. \n",
    "\n",
    "Overall, the COCA data suggests a few things:\n",
    "1. The term \"illegal immigrant\" is used more often than the term \"undocumented immigrant\"\n",
    "2. Usage of the term \"undocumented immigrant\" has increased over the years\n",
    "3. The term \"illegal immigrant\" is used in more negative contexts than the term \"undocumented immigrant\""
   ]
  },
  {
   "cell_type": "markdown",
   "metadata": {},
   "source": [
    "### Survey Data"
   ]
  },
  {
   "attachments": {},
   "cell_type": "markdown",
   "metadata": {},
   "source": [
    "Next, I look at data from a survey conducted in April of 2019. The survey first asked participants to identify their gender, education level, and race. Participants were then asked whom they voted for in the 2016 presidential election and how important the issue of immigration is to them on a 7-point scale. Next, participants were randomly assigned to a block of questions which referred to people living in the United States without documentation as “illegal immigrants” or the same block of questions which instead used the term “undocumented immigrants.”\n"
   ]
  },
  {
   "cell_type": "code",
   "execution_count": 8,
   "metadata": {
    "code_folding": []
   },
   "outputs": [
    {
     "name": "stdout",
     "output_type": "stream",
     "text": [
      "Average Survey Completion Time: 4.4337 minutes\n"
     ]
    }
   ],
   "source": [
    "# read in data from survey experiment\n",
    "data = pd.read_csv(\"SurveyData.csv\")\n",
    "data = data[data['Participation'] == 'Yes']\n",
    "print('Average Survey Completion Time:', round(data['Duration (in seconds)'].mean()/60,4), 'minutes')"
   ]
  },
  {
   "cell_type": "code",
   "execution_count": 9,
   "metadata": {
    "code_folding": []
   },
   "outputs": [],
   "source": [
    "# create dummy variable for whether a participant received a survey using the term \"illegal immigrant\" \n",
    "data['illegal'] = data['I6'].isnull()\n",
    "def ui(row):\n",
    "    if (row['illegal'] == True):\n",
    "        return 0\n",
    "    else:\n",
    "        return 1\n",
    "    \n",
    "data['illegal'] = data.apply(ui, axis = 1)\n",
    "\n",
    "dataU = data[data['illegal'] == 0]\n",
    "dataI = data[data['illegal'] == 1]\n",
    "Ttotal = data.shape[0]\n",
    "Utotal = dataU.shape[0]\n",
    "Itotal = dataI.shape[0]"
   ]
  },
  {
   "cell_type": "code",
   "execution_count": 10,
   "metadata": {
    "code_folding": [],
    "scrolled": false
   },
   "outputs": [
    {
     "name": "stdout",
     "output_type": "stream",
     "text": [
      "\t\t\t\tIllegal\t\tUndocumented\tTotal\n",
      "\n",
      "Gender\n",
      "Female\t\t\t\t220 (43%)\t287 (55%)\t507 (49%)\n",
      "Male\t\t\t\t294 (57%)\t231 (45%)\t525 (51%)\n",
      "\n",
      "Education Level\n",
      "High School\t\t\t50 (10%)\t51 (10%)\t101 (10%)\n",
      "Some College\t\t\t171 (33%)\t150 (29%)\t321 (31%)\n",
      "Bachelor's Degree\t\t209 (41%)\t221 (43%)\t430 (42%)\n",
      "Master's Degree\t\t\t66 (13%)\t76 (15%)\t142 (14%)\n",
      "Doctoral Degree or Equivalent\t17 (3%)\t\t18 (3%)\t\t35 (3%)\n",
      "Other\t\t\t\t1 (0%)\t\t2 (0%)\t\t3 (0%)\n",
      "\n",
      "Race/Ethnicity\n",
      "African American or Black\t38 (7%)\t\t35 (7%)\t\t73 (7%)\n",
      "Asian\t\t\t\t37 (7%)\t\t26 (5%)\t\t63 (6%)\n",
      "Caucasian or White\t\t388 (75%)\t409 (79%)\t797 (77%)\n",
      "Hispanic or Latino\t\t32 (6%)\t\t32 (6%)\t\t64 (6%)\n",
      "Native American\t\t\t9 (2%)\t\t8 (2%)\t\t17 (2%)\n",
      "Pacific Islander\t\t2 (0%)\t\t0 (0%)\t\t2 (0%)\n",
      "Other\t\t\t\t8 (2%)\t\t8 (2%)\t\t16 (2%)\n",
      "\n",
      "Vote in 2016 Election\n",
      "Donald Trump\t\t\t173 (34%)\t189 (36%)\t362 (35%)\n",
      "Hillary Clinton\t\t\t194 (38%)\t202 (39%)\t396 (38%)\n",
      "Other\t\t\t\t64 (12%)\t41 (8%)\t\t105 (10%)\n",
      "Did not vote\t\t\t83 (16%)\t86 (17%)\t169 (16%)\n"
     ]
    }
   ],
   "source": [
    "# Demographic Characteristics of Sample\n",
    "\n",
    "def demographics(question, characteristic, categories):\n",
    "    print(\"\\n\" + characteristic)\n",
    "    for word in categories:\n",
    "        formated = \"{} ({:.0%})\\t{} ({:.0%})\\t{} ({:.0%})\"\n",
    "        I_count = dataI[dataI[question] == word].shape[0]\n",
    "        U_count = dataU[dataU[question] == word].shape[0]\n",
    "        T_count = data[data[question] == word].shape[0]\n",
    "        \n",
    "        if T_count < 75:\n",
    "            formated = \"{} ({:.0%})\\t\\t{} ({:.0%})\\t\\t{} ({:.0%})\"\n",
    "        if word == \"Native American or American Indian\":\n",
    "            word = \"Native American\"\n",
    "        if (characteristic == \"Vote in 2016 Election\") & (word == \"Other\"):\n",
    "            formated = \"{} ({:.0%})\\t{} ({:.0%})\\t\\t{} ({:.0%})\"\n",
    "            \n",
    "        if len(word) < 7:\n",
    "            space = '\\t\\t\\t\\t'\n",
    "        elif len(word) < 16:\n",
    "            space = '\\t\\t\\t'\n",
    "        elif len(word) < 25:\n",
    "            space = '\\t\\t'\n",
    "        else:\n",
    "            space = '\\t'\n",
    "            \n",
    "        print(word + space + formated\n",
    "               .format(\n",
    "                   I_count, \n",
    "                   I_count/Itotal,\n",
    "                   U_count, \n",
    "                   U_count/Utotal,\n",
    "                   T_count, \n",
    "                   T_count/Ttotal))\n",
    "    \n",
    "print(\"\\t\\t\\t\\tIllegal\\t\\tUndocumented\\tTotal\")\n",
    "demographics(\"Q1\", \"Gender\", [\"Female\", \"Male\"])\n",
    "demographics(\"Q2\", \"Education Level\", [\"High School\", \"Some College\", \"Bachelor\\'s Degree\", \"Master\\'s Degree\", \"Doctoral Degree or Equivalent\", \"Other\"])\n",
    "demographics(\"Q3\", \"Race/Ethnicity\", [\"African American or Black\", \"Asian\", \"Caucasian or White\", \"Hispanic or Latino\", \"Native American or American Indian\", \"Pacific Islander\", \"Other\"])\n",
    "demographics(\"Q4\", \"Vote in 2016 Election\", [\"Donald Trump\", \"Hillary Clinton\", \"Other\", \"Did not vote\"])\n"
   ]
  },
  {
   "cell_type": "code",
   "execution_count": 11,
   "metadata": {
    "code_folding": []
   },
   "outputs": [
    {
     "name": "stdout",
     "output_type": "stream",
     "text": [
      "Characteristic\t\tChi-squared p-value\n",
      "Gender:\t\t\t6.68367588612187e-05\n",
      "Education Level:\t0.7355030131335021\n",
      "Race/Ethnicity:\t\t0.5906579538493022\n",
      "Vote in 2016 Election:\t0.11433023435951237\n"
     ]
    }
   ],
   "source": [
    "# Chi-squared to check sample balance\n",
    "def chiSquared(question, characteristic, categories):\n",
    "    count_list = []\n",
    "    for word in categories:\n",
    "        count_list.append([dataI[dataI[question] == word].shape[0], dataU[dataU[question] == word].shape[0]])\n",
    "    observations = np.array(count_list)\n",
    "    g, p, dof, expctd = st.chi2_contingency(observations)\n",
    "    if len(characteristic) < 7:\n",
    "        space = '\\t\\t\\t'\n",
    "    elif len(characteristic) < 15:\n",
    "        space = '\\t\\t'\n",
    "    else:\n",
    "        space = '\\t'\n",
    "    print(characteristic + \":\" + space + \"{}\".format(p))\n",
    "\n",
    "print('Characteristic\\t\\tChi-squared p-value')\n",
    "chiSquared(\"Q1\", \"Gender\", [\"Female\", \"Male\"])\n",
    "chiSquared(\"Q2\", \"Education Level\", [\"High School\", \"Some College\", \"Bachelor\\'s Degree\", \"Master\\'s Degree\", \"Doctoral Degree or Equivalent\", \"Other\"])\n",
    "chiSquared(\"Q3\", \"Race/Ethnicity\", [\"African American or Black\", \"Asian\", \"Caucasian or White\", \"Hispanic or Latino\", \"Native American or American Indian\", \"Pacific Islander\", \"Other\"])\n",
    "chiSquared(\"Q4\", \"Vote in 2016 Election\", [\"Donald Trump\", \"Hillary Clinton\", \"Other\", \"Did not vote\"])"
   ]
  },
  {
   "attachments": {},
   "cell_type": "markdown",
   "metadata": {},
   "source": [
    "To check how balanced the sample is, I perform chi-squared tests on the proportion of people who received the “illegal immigrant” version of the survey as compared to the proportion of people who received the “undocumented immigrant” version of the survey for gender, education level, ethnicity, and vote in the 2016 election. The corresponding p-value for the test on the proportion of males and females for the two survey types is significant. This suggests a sampling imbalance with respect to gender. I correct for this problem by controlling for gender in the models below. "
   ]
  },
  {
   "cell_type": "code",
   "execution_count": 12,
   "metadata": {
    "code_folding": []
   },
   "outputs": [],
   "source": [
    "# create dummy variables and indexes for proimmigrant policies and antiimigrant policies \n",
    "\n",
    "def dummy(question, name, column_name):\n",
    "    def dummy_maker(row):\n",
    "        if (row[question] == name):\n",
    "            return 1\n",
    "        else:\n",
    "            return 0\n",
    "    data[column_name] = data.apply(dummy_maker, axis = 1) \n",
    "\n",
    "dummy(\"Q1\", \"Male\", \"Male\")\n",
    "dummy(\"Q2\", \"High School\", \"highschool\")\n",
    "dummy(\"Q2\", \"Some College\", \"somecollege\")\n",
    "dummy(\"Q2\", \"Bachelor\\'s Degree\", \"Bachelors\")\n",
    "dummy(\"Q2\", \"Master\\'s Degree\", \"Masters\")\n",
    "dummy(\"Q2\", \"Doctoral Degree or Equivalent\", \"Doctorate\")\n",
    "dummy(\"Q2\", \"Other\", \"EduOther\")\n",
    "dummy(\"Q3\", \"African American or Black\", \"Black\")\n",
    "dummy(\"Q3\", \"Asian\", \"Asian\")\n",
    "dummy(\"Q3\", \"Caucasian or White\", \"White\")\n",
    "dummy(\"Q3\", \"Hispanic or Latino\", \"Hispanic\")\n",
    "dummy(\"Q3\", \"Native American or American Indian\", \"NativeAmerican\")\n",
    "dummy(\"Q3\", \"Pacific Islander\", \"Pacific\")\n",
    "dummy(\"Q3\", \"Other\", \"EthnicOther\")\n",
    "dummy(\"Q4\", \"Donald Trump\", \"Trump\")\n",
    "dummy(\"Q4\", \"Hillary Clinton\", \"Clinton\")\n",
    "dummy(\"Q4\", \"Other\", \"VoteOther\")\n",
    "dummy(\"Q4\", \"Did not vote\", \"DidNotVote\")\n",
    "\n",
    "data['Education'] = data['Q2']\n",
    "data['Ethnicity'] = data['Q3']\n",
    "data['Vote'] = data['Q4']\n",
    "    \n",
    "#Q5--On a scale from 1 to 7, how important is the issue of immigration to you?\n",
    "data['importance'] = data['Q5']\n",
    "\n",
    "#On a scale from 1 to 7, to what extent do you agree with the following policies?\n",
    "#6--President Trump's plan to build a wall between Mexico and the US to secure the border from illegal/undocumented immigrants\n",
    "#7--The practice of separating the children of illegal/undocumented immigrants from their parents at the border so their parents can be prosecuted\n",
    "#On a scale from 1 to 7, to what extent do you agree with the following statement? \n",
    "#8--Police officers should help enforce the deportation of illegal/undocumented immigrants\n",
    "def antiimmigrant(row):\n",
    "    if (row['illegal'] == 1):\n",
    "        return (row['I6']+row['I7']+row['I8'])/3\n",
    "    else: \n",
    "        return (row['U6']+row['U7']+row['U8'])/3\n",
    "\n",
    "#On a scale from 1 to 7, to what extent do you agree with the following statements?\n",
    "#9--Illegal/Undocumented immigrants should be able to lawfully work in the US\n",
    "#10--Illegal/Undocumented immigrants should be allowed to attend public universities in the US\n",
    "#11--Illegal/Undocumented immigrants should be able to receive food stamps or access help from other tax-funded welfare programs\n",
    "def proimmigrant(row):\n",
    "    if (row['illegal'] == 1):\n",
    "        return (row['I9'] + row['I10'] + row['I11'])/3\n",
    "    else: \n",
    "        return (row['U9']+row['U10']+row['U11'])/3\n",
    "    \n",
    "#On a scale from 1 to 7, to what extent do you agree with the following statement?\n",
    "#Illegal/Undocumented immigrants are inherently good people\n",
    "def good(row):\n",
    "    if (row['illegal'] == 1):\n",
    "        return row['I12']\n",
    "    else:\n",
    "        return row['U12']\n",
    "    \n",
    "data['AntiImmigrant'] = data.apply(antiimmigrant, axis = 1)\n",
    "data['ProImmigrant'] = data.apply(proimmigrant, axis = 1)\n",
    "data['InherentlyGood'] = data.apply(good, axis = 1)\n"
   ]
  },
  {
   "cell_type": "markdown",
   "metadata": {},
   "source": [
    "I construct a measure for how people feel about pro-immigrant policies and a measure for how people feel about anti-immigrant policies. The pro-immigrant measure is the average of people's responses to questions asking the extent to which they agree with the following statements (on a scale from 1 to 7):\n",
    "\n",
    "1. Illegal/Undocumented immigrants should be able to lawfully work in the US\n",
    "2. Illegal/Undocumented immigrants should be allowed to attend public universities in the US\n",
    "3. Illegal/Undocumented immigrants should be able to receive food stamps or access help from other tax-funded welfare programs\n",
    "\n",
    "Similarly, the anti-immigrant measure is the average of people's responses to questions asking the extent to which they agree with the following statements and policies:\n",
    "\n",
    "1. President Trump's plan to build a wall between Mexico and the US to secure the border from illegal/undocumented immigrants\n",
    "2. The practice of separating the children of illegal/undocumented immigrants from their parents at the border so their parents can be prosecuted\n",
    "3. Police officers should help enforce the deportation of illegal/undocumented immigrants\n",
    "\n",
    "I also use people's level of agreement (on a 7-point scale) with the statement that illegal/undocumented immigrants are inherently good people as a measure for their propensity to dehumanize immigrants. "
   ]
  },
  {
   "cell_type": "code",
   "execution_count": 13,
   "metadata": {
    "code_folding": []
   },
   "outputs": [
    {
     "name": "stdout",
     "output_type": "stream",
     "text": [
      "\t\t\t\t\t\t\"Illegal\"\t\t\"Undocumented\"\n",
      "Mean Support for Anti-Immigrant Policies\t 3.1591\t\t\t 3.3023\n",
      "Mean Support for Pro-Immigrant Policies\t\t 3.2045\t\t\t 3.3196\n",
      "Mean Agreement with Inherently Good\t\t 4.5866\t\t\t 4.6151\n"
     ]
    }
   ],
   "source": [
    "# Mean index values for people in the survey using \"illegal immigrant\" as compared with people in the survey using \"undocumented immigrant\"\n",
    "print('\\t\\t\\t\\t\\t\\t\\\"Illegal\\\"\\t\\t\\\"Undocumented\\\"')\n",
    "print('Mean Support for Anti-Immigrant Policies\\t {:0.4f}\\t\\t\\t {:0.4f}'\n",
    "      .format(data[data['illegal'] == 1]['AntiImmigrant'].mean(),\n",
    "              data[data['illegal'] == 0]['AntiImmigrant'].mean()))\n",
    "print('Mean Support for Pro-Immigrant Policies\\t\\t {:0.4f}\\t\\t\\t {:0.4f}'\n",
    "      .format(data[data['illegal'] == 1]['ProImmigrant'].mean(),\n",
    "              data[data['illegal'] == 0]['ProImmigrant'].mean()))\n",
    "print('Mean Agreement with Inherently Good\\t\\t {:0.4f}\\t\\t\\t {:0.4f}'\n",
    "      .format(data[data['illegal'] == 1]['InherentlyGood'].mean(),\n",
    "              data[data['illegal'] == 0]['InherentlyGood'].mean()))\n"
   ]
  },
  {
   "cell_type": "markdown",
   "metadata": {},
   "source": [
    "An initial look at the data suggests that there is little difference between using the term \"illegal immigrant\" and using the term \"undocumented immigrant.\" In fact, the mean of the anti-immigrant measure for people who received the \"undocumented\" version of the survey is actually higher than the mean for people who received the \"illegal\" version of the survey. "
   ]
  },
  {
   "cell_type": "code",
   "execution_count": 14,
   "metadata": {
    "code_folding": []
   },
   "outputs": [
    {
     "data": {
      "image/png": "[encoded data removed]",
      "text/plain": [
       "<Figure size 864x864 with 6 Axes>"
      ]
     },
     "metadata": {
      "needs_background": "light"
     },
     "output_type": "display_data"
    }
   ],
   "source": [
    "# plot distribution of responses for indexes\n",
    "fig, ax = plt.subplots(3, 2, sharex='col', sharey='row',figsize=(12,12),constrained_layout=True)\n",
    "fig.suptitle('Figure 4: Distribution of \\\"Undocumented\\\" vs \\\"Illegal\\\" By Response Variable\\n', fontsize=16)\n",
    "types = ['ProImmigrant', 'AntiImmigrant', 'InherentlyGood']\n",
    "x_labels = ['Support for Pro-Immigrant Policies', 'Support for Anti-Immigrant Policies', 'Agreement with Inherently Good People']\n",
    "IU = ['\\\"Undocumented\\\"', '\\\"Illegal\\\"']\n",
    "for x in range(3):\n",
    "    for y in range(2):\n",
    "        ax[x][y].hist(data[data['illegal'] == y][types[x]], bins = 25, label = 'Mean = ' + str(round(data[data['illegal'] == y][types[x]].mean(),4)))\n",
    "        ax[x][y].set_title(IU[y], fontsize=14)\n",
    "        ax[x][y].set_xlabel(x_labels[x], fontsize=14)\n",
    "        ax[x][y].set_facecolor('ghostwhite')\n",
    "        if y == 0:\n",
    "            ax[x][y].set_ylabel('Frequency', fontsize = 14)\n",
    "        leg = ax[x][y].legend(handlelength=0, handletextpad=0, fancybox=True, fontsize = 14)\n",
    "        for item in leg.legendHandles:\n",
    "            item.set_visible(False)\n"
   ]
  },
  {
   "cell_type": "code",
   "execution_count": 15,
   "metadata": {
    "code_folding": []
   },
   "outputs": [
    {
     "data": {
      "image/png": "[encoded data removed]",
      "text/plain": [
       "<Figure size 432x288 with 1 Axes>"
      ]
     },
     "metadata": {
      "needs_background": "light"
     },
     "output_type": "display_data"
    }
   ],
   "source": [
    "# plot distribution of how important people said the issue of immigration was to them\n",
    "ax6 = data['importance'].plot(kind = 'hist', bins = 25, label = 'Mean = ' + str(round(data['importance'].mean(),4)))\n",
    "ax6.set_title('Figure 5: Importance of the Issue of Immigration', fontsize = 14)\n",
    "ax6.set_ylabel('Frequency',fontsize = 14)\n",
    "ax6.set_facecolor('ghostwhite')\n",
    "leg6 = ax6.legend(handlelength=0, handletextpad=0, fancybox=True, fontsize = 14)\n",
    "for item in leg6.legendHandles:\n",
    "    item.set_visible(False)\n",
    "# plt.savefig('importance.jpeg')\n"
   ]
  },
  {
   "cell_type": "markdown",
   "metadata": {},
   "source": [
    "#### Regression Models"
   ]
  },
  {
   "cell_type": "markdown",
   "metadata": {},
   "source": [
    "I look at three different models for each measure. The first model includes only the treatment effect (whether someone took the \"undocumented\" version of the survey or the \"illegal\" version of the survey). The second model adds control variables (gender, education level, race, and vote in the 2016 election). The third model adds the level of importance that a given participant placed on the issue of immigration as an interaction term. The theory behind the third model is that using one term over the other will have a greater effect on people who do not have strong views on immigration. \n",
    "\n",
    "Here is a quick note about why I'm using regression models:\n",
    "\n",
    "Because participants were randomly assigned to the treatment, a simple comparison of means should reveal the effect that the two different terms have on each dependent variable. However, I include gender, education level, ethnicity, and vote in the 2016 election as control variables in the models in addition to the two explanatory variables of interest. If, even after the randomization process, there is a correlation between the treatment variable and one of the control variables, the variance of the treatment variable given the control variable will decrease which will increase the standard error of the coefficient for the treatment variable. In this case, a significant result that is really the cause of a sampling imbalance in one of the control variables will be less likely to show as significant. Additionally, the inclusion of control variables will likely add more explanatory power to the model which will decrease the variance of the error terms and the standard error of the coefficient for the treatment variable. In this case, including control variables will make the estimate of the treatment effect more precise. "
   ]
  },
  {
   "cell_type": "markdown",
   "metadata": {},
   "source": [
    "##### Anti-Immigrant Policy Models"
   ]
  },
  {
   "cell_type": "code",
   "execution_count": 16,
   "metadata": {
    "code_folding": []
   },
   "outputs": [
    {
     "data": {
      "text/html": [
       "<table class=\"simpletable\">\n",
       "<caption>OLS Regression Results</caption>\n",
       "<tr>\n",
       "  <th>Dep. Variable:</th>      <td>AntiImmigrant</td>  <th>  R-squared:         </th> <td>   0.001</td>\n",
       "</tr>\n",
       "<tr>\n",
       "  <th>Model:</th>                   <td>OLS</td>       <th>  Adj. R-squared:    </th> <td>   0.000</td>\n",
       "</tr>\n",
       "<tr>\n",
       "  <th>Method:</th>             <td>Least Squares</td>  <th>  F-statistic:       </th> <td>   1.332</td>\n",
       "</tr>\n",
       "<tr>\n",
       "  <th>Date:</th>             <td>Fri, 25 Sep 2020</td> <th>  Prob (F-statistic):</th>  <td> 0.249</td> \n",
       "</tr>\n",
       "<tr>\n",
       "  <th>Time:</th>                 <td>18:37:16</td>     <th>  Log-Likelihood:    </th> <td> -2173.3</td>\n",
       "</tr>\n",
       "<tr>\n",
       "  <th>No. Observations:</th>      <td>  1032</td>      <th>  AIC:               </th> <td>   4351.</td>\n",
       "</tr>\n",
       "<tr>\n",
       "  <th>Df Residuals:</th>          <td>  1030</td>      <th>  BIC:               </th> <td>   4360.</td>\n",
       "</tr>\n",
       "<tr>\n",
       "  <th>Df Model:</th>              <td>     1</td>      <th>                     </th>     <td> </td>   \n",
       "</tr>\n",
       "<tr>\n",
       "  <th>Covariance Type:</th>         <td>HC3</td>       <th>                     </th>     <td> </td>   \n",
       "</tr>\n",
       "</table>\n",
       "<table class=\"simpletable\">\n",
       "<tr>\n",
       "      <td></td>         <th>coef</th>     <th>std err</th>      <th>z</th>      <th>P>|z|</th>  <th>[0.025</th>    <th>0.975]</th>  \n",
       "</tr>\n",
       "<tr>\n",
       "  <th>Intercept</th> <td>    3.3023</td> <td>    0.088</td> <td>   37.523</td> <td> 0.000</td> <td>    3.130</td> <td>    3.475</td>\n",
       "</tr>\n",
       "<tr>\n",
       "  <th>illegal</th>   <td>   -0.1431</td> <td>    0.124</td> <td>   -1.154</td> <td> 0.248</td> <td>   -0.386</td> <td>    0.100</td>\n",
       "</tr>\n",
       "</table>\n",
       "<table class=\"simpletable\">\n",
       "<tr>\n",
       "  <th>Omnibus:</th>       <td>1663.636</td> <th>  Durbin-Watson:     </th> <td>   1.926</td>\n",
       "</tr>\n",
       "<tr>\n",
       "  <th>Prob(Omnibus):</th>  <td> 0.000</td>  <th>  Jarque-Bera (JB):  </th> <td>  91.169</td>\n",
       "</tr>\n",
       "<tr>\n",
       "  <th>Skew:</th>           <td> 0.349</td>  <th>  Prob(JB):          </th> <td>1.60e-20</td>\n",
       "</tr>\n",
       "<tr>\n",
       "  <th>Kurtosis:</th>       <td> 1.722</td>  <th>  Cond. No.          </th> <td>    2.61</td>\n",
       "</tr>\n",
       "</table><br/><br/>Warnings:<br/>[1] Standard Errors are heteroscedasticity robust (HC3)"
      ],
      "text/plain": [
       "<class 'statsmodels.iolib.summary.Summary'>\n",
       "\"\"\"\n",
       "                            OLS Regression Results                            \n",
       "==============================================================================\n",
       "Dep. Variable:          AntiImmigrant   R-squared:                       0.001\n",
       "Model:                            OLS   Adj. R-squared:                  0.000\n",
       "Method:                 Least Squares   F-statistic:                     1.332\n",
       "Date:                Fri, 25 Sep 2020   Prob (F-statistic):              0.249\n",
       "Time:                        18:37:16   Log-Likelihood:                -2173.3\n",
       "No. Observations:                1032   AIC:                             4351.\n",
       "Df Residuals:                    1030   BIC:                             4360.\n",
       "Df Model:                           1                                         \n",
       "Covariance Type:                  HC3                                         \n",
       "==============================================================================\n",
       "                 coef    std err          z      P>|z|      [0.025      0.975]\n",
       "------------------------------------------------------------------------------\n",
       "Intercept      3.3023      0.088     37.523      0.000       3.130       3.475\n",
       "illegal       -0.1431      0.124     -1.154      0.248      -0.386       0.100\n",
       "==============================================================================\n",
       "Omnibus:                     1663.636   Durbin-Watson:                   1.926\n",
       "Prob(Omnibus):                  0.000   Jarque-Bera (JB):               91.169\n",
       "Skew:                           0.349   Prob(JB):                     1.60e-20\n",
       "Kurtosis:                       1.722   Cond. No.                         2.61\n",
       "==============================================================================\n",
       "\n",
       "Warnings:\n",
       "[1] Standard Errors are heteroscedasticity robust (HC3)\n",
       "\"\"\""
      ]
     },
     "execution_count": 16,
     "metadata": {},
     "output_type": "execute_result"
    }
   ],
   "source": [
    "# Anti-Immigrant Policy Model without controls \n",
    "anti1 = sm.ols(formula=\"AntiImmigrant ~ illegal\", data=data).fit(cov_type = 'HC3')\n",
    "anti1.summary()"
   ]
  },
  {
   "cell_type": "code",
   "execution_count": 17,
   "metadata": {
    "code_folding": []
   },
   "outputs": [
    {
     "data": {
      "text/html": [
       "<table class=\"simpletable\">\n",
       "<caption>OLS Regression Results</caption>\n",
       "<tr>\n",
       "  <th>Dep. Variable:</th>      <td>AntiImmigrant</td>  <th>  R-squared:         </th> <td>   0.451</td> \n",
       "</tr>\n",
       "<tr>\n",
       "  <th>Model:</th>                   <td>OLS</td>       <th>  Adj. R-squared:    </th> <td>   0.449</td> \n",
       "</tr>\n",
       "<tr>\n",
       "  <th>Method:</th>             <td>Least Squares</td>  <th>  F-statistic:       </th> <td>   246.5</td> \n",
       "</tr>\n",
       "<tr>\n",
       "  <th>Date:</th>             <td>Fri, 25 Sep 2020</td> <th>  Prob (F-statistic):</th> <td>2.12e-148</td>\n",
       "</tr>\n",
       "<tr>\n",
       "  <th>Time:</th>                 <td>18:37:16</td>     <th>  Log-Likelihood:    </th> <td> -1864.1</td> \n",
       "</tr>\n",
       "<tr>\n",
       "  <th>No. Observations:</th>      <td>  1032</td>      <th>  AIC:               </th> <td>   3738.</td> \n",
       "</tr>\n",
       "<tr>\n",
       "  <th>Df Residuals:</th>          <td>  1027</td>      <th>  BIC:               </th> <td>   3763.</td> \n",
       "</tr>\n",
       "<tr>\n",
       "  <th>Df Model:</th>              <td>     4</td>      <th>                     </th>     <td> </td>    \n",
       "</tr>\n",
       "<tr>\n",
       "  <th>Covariance Type:</th>         <td>HC3</td>       <th>                     </th>     <td> </td>    \n",
       "</tr>\n",
       "</table>\n",
       "<table class=\"simpletable\">\n",
       "<tr>\n",
       "         <td></td>           <th>coef</th>     <th>std err</th>      <th>z</th>      <th>P>|z|</th>  <th>[0.025</th>    <th>0.975]</th>  \n",
       "</tr>\n",
       "<tr>\n",
       "  <th>Intercept</th>      <td>    2.7285</td> <td>    0.116</td> <td>   23.516</td> <td> 0.000</td> <td>    2.501</td> <td>    2.956</td>\n",
       "</tr>\n",
       "<tr>\n",
       "  <th>illegal</th>        <td>   -0.0905</td> <td>    0.092</td> <td>   -0.980</td> <td> 0.327</td> <td>   -0.272</td> <td>    0.091</td>\n",
       "</tr>\n",
       "<tr>\n",
       "  <th>Trump</th>          <td>    2.2661</td> <td>    0.129</td> <td>   17.561</td> <td> 0.000</td> <td>    2.013</td> <td>    2.519</td>\n",
       "</tr>\n",
       "<tr>\n",
       "  <th>Clinton</th>        <td>   -0.7013</td> <td>    0.124</td> <td>   -5.657</td> <td> 0.000</td> <td>   -0.944</td> <td>   -0.458</td>\n",
       "</tr>\n",
       "<tr>\n",
       "  <th>NativeAmerican</th> <td>    1.3201</td> <td>    0.355</td> <td>    3.724</td> <td> 0.000</td> <td>    0.625</td> <td>    2.015</td>\n",
       "</tr>\n",
       "</table>\n",
       "<table class=\"simpletable\">\n",
       "<tr>\n",
       "  <th>Omnibus:</th>       <td>49.977</td> <th>  Durbin-Watson:     </th> <td>   1.963</td>\n",
       "</tr>\n",
       "<tr>\n",
       "  <th>Prob(Omnibus):</th> <td> 0.000</td> <th>  Jarque-Bera (JB):  </th> <td>  56.032</td>\n",
       "</tr>\n",
       "<tr>\n",
       "  <th>Skew:</th>          <td> 0.556</td> <th>  Prob(JB):          </th> <td>6.81e-13</td>\n",
       "</tr>\n",
       "<tr>\n",
       "  <th>Kurtosis:</th>      <td> 3.261</td> <th>  Cond. No.          </th> <td>    9.93</td>\n",
       "</tr>\n",
       "</table><br/><br/>Warnings:<br/>[1] Standard Errors are heteroscedasticity robust (HC3)"
      ],
      "text/plain": [
       "<class 'statsmodels.iolib.summary.Summary'>\n",
       "\"\"\"\n",
       "                            OLS Regression Results                            \n",
       "==============================================================================\n",
       "Dep. Variable:          AntiImmigrant   R-squared:                       0.451\n",
       "Model:                            OLS   Adj. R-squared:                  0.449\n",
       "Method:                 Least Squares   F-statistic:                     246.5\n",
       "Date:                Fri, 25 Sep 2020   Prob (F-statistic):          2.12e-148\n",
       "Time:                        18:37:16   Log-Likelihood:                -1864.1\n",
       "No. Observations:                1032   AIC:                             3738.\n",
       "Df Residuals:                    1027   BIC:                             3763.\n",
       "Df Model:                           4                                         \n",
       "Covariance Type:                  HC3                                         \n",
       "==================================================================================\n",
       "                     coef    std err          z      P>|z|      [0.025      0.975]\n",
       "----------------------------------------------------------------------------------\n",
       "Intercept          2.7285      0.116     23.516      0.000       2.501       2.956\n",
       "illegal           -0.0905      0.092     -0.980      0.327      -0.272       0.091\n",
       "Trump              2.2661      0.129     17.561      0.000       2.013       2.519\n",
       "Clinton           -0.7013      0.124     -5.657      0.000      -0.944      -0.458\n",
       "NativeAmerican     1.3201      0.355      3.724      0.000       0.625       2.015\n",
       "==============================================================================\n",
       "Omnibus:                       49.977   Durbin-Watson:                   1.963\n",
       "Prob(Omnibus):                  0.000   Jarque-Bera (JB):               56.032\n",
       "Skew:                           0.556   Prob(JB):                     6.81e-13\n",
       "Kurtosis:                       3.261   Cond. No.                         9.93\n",
       "==============================================================================\n",
       "\n",
       "Warnings:\n",
       "[1] Standard Errors are heteroscedasticity robust (HC3)\n",
       "\"\"\""
      ]
     },
     "execution_count": 17,
     "metadata": {},
     "output_type": "execute_result"
    }
   ],
   "source": [
    "# Anti-Immigrant Policy Model with controls and without interaction term\n",
    "anti2 = sm.ols(formula=\"AntiImmigrant ~ illegal + Trump + Clinton + NativeAmerican\", data=data).fit(cov_type = 'HC3')\n",
    "anti2.summary()\n"
   ]
  },
  {
   "cell_type": "code",
   "execution_count": 18,
   "metadata": {
    "code_folding": [],
    "scrolled": false
   },
   "outputs": [
    {
     "data": {
      "text/html": [
       "<table class=\"simpletable\">\n",
       "<caption>OLS Regression Results</caption>\n",
       "<tr>\n",
       "  <th>Dep. Variable:</th>      <td>AntiImmigrant</td>  <th>  R-squared:         </th> <td>   0.492</td> \n",
       "</tr>\n",
       "<tr>\n",
       "  <th>Model:</th>                   <td>OLS</td>       <th>  Adj. R-squared:    </th> <td>   0.488</td> \n",
       "</tr>\n",
       "<tr>\n",
       "  <th>Method:</th>             <td>Least Squares</td>  <th>  F-statistic:       </th> <td>   183.3</td> \n",
       "</tr>\n",
       "<tr>\n",
       "  <th>Date:</th>             <td>Fri, 25 Sep 2020</td> <th>  Prob (F-statistic):</th> <td>1.07e-175</td>\n",
       "</tr>\n",
       "<tr>\n",
       "  <th>Time:</th>                 <td>18:37:16</td>     <th>  Log-Likelihood:    </th> <td> -1824.9</td> \n",
       "</tr>\n",
       "<tr>\n",
       "  <th>No. Observations:</th>      <td>  1032</td>      <th>  AIC:               </th> <td>   3666.</td> \n",
       "</tr>\n",
       "<tr>\n",
       "  <th>Df Residuals:</th>          <td>  1024</td>      <th>  BIC:               </th> <td>   3705.</td> \n",
       "</tr>\n",
       "<tr>\n",
       "  <th>Df Model:</th>              <td>     7</td>      <th>                     </th>     <td> </td>    \n",
       "</tr>\n",
       "<tr>\n",
       "  <th>Covariance Type:</th>         <td>HC3</td>       <th>                     </th>     <td> </td>    \n",
       "</tr>\n",
       "</table>\n",
       "<table class=\"simpletable\">\n",
       "<tr>\n",
       "           <td></td>             <th>coef</th>     <th>std err</th>      <th>z</th>      <th>P>|z|</th>  <th>[0.025</th>    <th>0.975]</th>  \n",
       "</tr>\n",
       "<tr>\n",
       "  <th>Intercept</th>          <td>    1.2962</td> <td>    0.248</td> <td>    5.232</td> <td> 0.000</td> <td>    0.811</td> <td>    1.782</td>\n",
       "</tr>\n",
       "<tr>\n",
       "  <th>illegal</th>            <td>   -0.0291</td> <td>    0.327</td> <td>   -0.089</td> <td> 0.929</td> <td>   -0.670</td> <td>    0.612</td>\n",
       "</tr>\n",
       "<tr>\n",
       "  <th>importance</th>         <td>    0.2845</td> <td>    0.048</td> <td>    5.947</td> <td> 0.000</td> <td>    0.191</td> <td>    0.378</td>\n",
       "</tr>\n",
       "<tr>\n",
       "  <th>illegal:importance</th> <td>   -0.0136</td> <td>    0.064</td> <td>   -0.214</td> <td> 0.831</td> <td>   -0.138</td> <td>    0.111</td>\n",
       "</tr>\n",
       "<tr>\n",
       "  <th>Male</th>               <td>    0.2291</td> <td>    0.092</td> <td>    2.489</td> <td> 0.013</td> <td>    0.049</td> <td>    0.410</td>\n",
       "</tr>\n",
       "<tr>\n",
       "  <th>Trump</th>              <td>    1.9873</td> <td>    0.132</td> <td>   15.007</td> <td> 0.000</td> <td>    1.728</td> <td>    2.247</td>\n",
       "</tr>\n",
       "<tr>\n",
       "  <th>Clinton</th>            <td>   -0.7701</td> <td>    0.124</td> <td>   -6.230</td> <td> 0.000</td> <td>   -1.012</td> <td>   -0.528</td>\n",
       "</tr>\n",
       "<tr>\n",
       "  <th>NativeAmerican</th>     <td>    1.2728</td> <td>    0.329</td> <td>    3.873</td> <td> 0.000</td> <td>    0.629</td> <td>    1.917</td>\n",
       "</tr>\n",
       "</table>\n",
       "<table class=\"simpletable\">\n",
       "<tr>\n",
       "  <th>Omnibus:</th>       <td>36.186</td> <th>  Durbin-Watson:     </th> <td>   1.984</td>\n",
       "</tr>\n",
       "<tr>\n",
       "  <th>Prob(Omnibus):</th> <td> 0.000</td> <th>  Jarque-Bera (JB):  </th> <td>  39.146</td>\n",
       "</tr>\n",
       "<tr>\n",
       "  <th>Skew:</th>          <td> 0.458</td> <th>  Prob(JB):          </th> <td>3.16e-09</td>\n",
       "</tr>\n",
       "<tr>\n",
       "  <th>Kurtosis:</th>      <td> 3.264</td> <th>  Cond. No.          </th> <td>    51.5</td>\n",
       "</tr>\n",
       "</table><br/><br/>Warnings:<br/>[1] Standard Errors are heteroscedasticity robust (HC3)"
      ],
      "text/plain": [
       "<class 'statsmodels.iolib.summary.Summary'>\n",
       "\"\"\"\n",
       "                            OLS Regression Results                            \n",
       "==============================================================================\n",
       "Dep. Variable:          AntiImmigrant   R-squared:                       0.492\n",
       "Model:                            OLS   Adj. R-squared:                  0.488\n",
       "Method:                 Least Squares   F-statistic:                     183.3\n",
       "Date:                Fri, 25 Sep 2020   Prob (F-statistic):          1.07e-175\n",
       "Time:                        18:37:16   Log-Likelihood:                -1824.9\n",
       "No. Observations:                1032   AIC:                             3666.\n",
       "Df Residuals:                    1024   BIC:                             3705.\n",
       "Df Model:                           7                                         \n",
       "Covariance Type:                  HC3                                         \n",
       "======================================================================================\n",
       "                         coef    std err          z      P>|z|      [0.025      0.975]\n",
       "--------------------------------------------------------------------------------------\n",
       "Intercept              1.2962      0.248      5.232      0.000       0.811       1.782\n",
       "illegal               -0.0291      0.327     -0.089      0.929      -0.670       0.612\n",
       "importance             0.2845      0.048      5.947      0.000       0.191       0.378\n",
       "illegal:importance    -0.0136      0.064     -0.214      0.831      -0.138       0.111\n",
       "Male                   0.2291      0.092      2.489      0.013       0.049       0.410\n",
       "Trump                  1.9873      0.132     15.007      0.000       1.728       2.247\n",
       "Clinton               -0.7701      0.124     -6.230      0.000      -1.012      -0.528\n",
       "NativeAmerican         1.2728      0.329      3.873      0.000       0.629       1.917\n",
       "==============================================================================\n",
       "Omnibus:                       36.186   Durbin-Watson:                   1.984\n",
       "Prob(Omnibus):                  0.000   Jarque-Bera (JB):               39.146\n",
       "Skew:                           0.458   Prob(JB):                     3.16e-09\n",
       "Kurtosis:                       3.264   Cond. No.                         51.5\n",
       "==============================================================================\n",
       "\n",
       "Warnings:\n",
       "[1] Standard Errors are heteroscedasticity robust (HC3)\n",
       "\"\"\""
      ]
     },
     "execution_count": 18,
     "metadata": {},
     "output_type": "execute_result"
    }
   ],
   "source": [
    "# Anti-Immigrant Policy Model with controls and with interaction term\n",
    "anti3 = sm.ols(formula=\"AntiImmigrant ~ illegal*importance + Male + Trump +Clinton + NativeAmerican\", data=data).fit(cov_type = 'HC3')\n",
    "anti3.summary()\n"
   ]
  },
  {
   "cell_type": "markdown",
   "metadata": {},
   "source": [
    "##### Pro-Immigrant Policy Models"
   ]
  },
  {
   "cell_type": "code",
   "execution_count": 19,
   "metadata": {
    "code_folding": []
   },
   "outputs": [
    {
     "data": {
      "text/html": [
       "<table class=\"simpletable\">\n",
       "<caption>OLS Regression Results</caption>\n",
       "<tr>\n",
       "  <th>Dep. Variable:</th>      <td>ProImmigrant</td>   <th>  R-squared:         </th> <td>   0.001</td>\n",
       "</tr>\n",
       "<tr>\n",
       "  <th>Model:</th>                   <td>OLS</td>       <th>  Adj. R-squared:    </th> <td>  -0.000</td>\n",
       "</tr>\n",
       "<tr>\n",
       "  <th>Method:</th>             <td>Least Squares</td>  <th>  F-statistic:       </th> <td>  0.8556</td>\n",
       "</tr>\n",
       "<tr>\n",
       "  <th>Date:</th>             <td>Fri, 25 Sep 2020</td> <th>  Prob (F-statistic):</th>  <td> 0.355</td> \n",
       "</tr>\n",
       "<tr>\n",
       "  <th>Time:</th>                 <td>18:37:17</td>     <th>  Log-Likelihood:    </th> <td> -2176.8</td>\n",
       "</tr>\n",
       "<tr>\n",
       "  <th>No. Observations:</th>      <td>  1032</td>      <th>  AIC:               </th> <td>   4358.</td>\n",
       "</tr>\n",
       "<tr>\n",
       "  <th>Df Residuals:</th>          <td>  1030</td>      <th>  BIC:               </th> <td>   4368.</td>\n",
       "</tr>\n",
       "<tr>\n",
       "  <th>Df Model:</th>              <td>     1</td>      <th>                     </th>     <td> </td>   \n",
       "</tr>\n",
       "<tr>\n",
       "  <th>Covariance Type:</th>         <td>HC3</td>       <th>                     </th>     <td> </td>   \n",
       "</tr>\n",
       "</table>\n",
       "<table class=\"simpletable\">\n",
       "<tr>\n",
       "      <td></td>         <th>coef</th>     <th>std err</th>      <th>z</th>      <th>P>|z|</th>  <th>[0.025</th>    <th>0.975]</th>  \n",
       "</tr>\n",
       "<tr>\n",
       "  <th>Intercept</th> <td>    3.3196</td> <td>    0.087</td> <td>   38.202</td> <td> 0.000</td> <td>    3.149</td> <td>    3.490</td>\n",
       "</tr>\n",
       "<tr>\n",
       "  <th>illegal</th>   <td>   -0.1151</td> <td>    0.124</td> <td>   -0.925</td> <td> 0.355</td> <td>   -0.359</td> <td>    0.129</td>\n",
       "</tr>\n",
       "</table>\n",
       "<table class=\"simpletable\">\n",
       "<tr>\n",
       "  <th>Omnibus:</th>       <td>1023.056</td> <th>  Durbin-Watson:     </th> <td>   2.019</td>\n",
       "</tr>\n",
       "<tr>\n",
       "  <th>Prob(Omnibus):</th>  <td> 0.000</td>  <th>  Jarque-Bera (JB):  </th> <td>  85.552</td>\n",
       "</tr>\n",
       "<tr>\n",
       "  <th>Skew:</th>           <td> 0.344</td>  <th>  Prob(JB):          </th> <td>2.65e-19</td>\n",
       "</tr>\n",
       "<tr>\n",
       "  <th>Kurtosis:</th>       <td> 1.768</td>  <th>  Cond. No.          </th> <td>    2.61</td>\n",
       "</tr>\n",
       "</table><br/><br/>Warnings:<br/>[1] Standard Errors are heteroscedasticity robust (HC3)"
      ],
      "text/plain": [
       "<class 'statsmodels.iolib.summary.Summary'>\n",
       "\"\"\"\n",
       "                            OLS Regression Results                            \n",
       "==============================================================================\n",
       "Dep. Variable:           ProImmigrant   R-squared:                       0.001\n",
       "Model:                            OLS   Adj. R-squared:                 -0.000\n",
       "Method:                 Least Squares   F-statistic:                    0.8556\n",
       "Date:                Fri, 25 Sep 2020   Prob (F-statistic):              0.355\n",
       "Time:                        18:37:17   Log-Likelihood:                -2176.8\n",
       "No. Observations:                1032   AIC:                             4358.\n",
       "Df Residuals:                    1030   BIC:                             4368.\n",
       "Df Model:                           1                                         \n",
       "Covariance Type:                  HC3                                         \n",
       "==============================================================================\n",
       "                 coef    std err          z      P>|z|      [0.025      0.975]\n",
       "------------------------------------------------------------------------------\n",
       "Intercept      3.3196      0.087     38.202      0.000       3.149       3.490\n",
       "illegal       -0.1151      0.124     -0.925      0.355      -0.359       0.129\n",
       "==============================================================================\n",
       "Omnibus:                     1023.056   Durbin-Watson:                   2.019\n",
       "Prob(Omnibus):                  0.000   Jarque-Bera (JB):               85.552\n",
       "Skew:                           0.344   Prob(JB):                     2.65e-19\n",
       "Kurtosis:                       1.768   Cond. No.                         2.61\n",
       "==============================================================================\n",
       "\n",
       "Warnings:\n",
       "[1] Standard Errors are heteroscedasticity robust (HC3)\n",
       "\"\"\""
      ]
     },
     "execution_count": 19,
     "metadata": {},
     "output_type": "execute_result"
    }
   ],
   "source": [
    "# Pro-Immigrant Policy Model without controls \n",
    "support1 = sm.ols(formula=\"ProImmigrant ~ illegal\", data=data).fit(cov_type = 'HC3')\n",
    "support1.summary()"
   ]
  },
  {
   "cell_type": "code",
   "execution_count": 20,
   "metadata": {
    "code_folding": [
     0
    ]
   },
   "outputs": [
    {
     "data": {
      "text/html": [
       "<table class=\"simpletable\">\n",
       "<caption>OLS Regression Results</caption>\n",
       "<tr>\n",
       "  <th>Dep. Variable:</th>      <td>ProImmigrant</td>   <th>  R-squared:         </th> <td>   0.154</td>\n",
       "</tr>\n",
       "<tr>\n",
       "  <th>Model:</th>                   <td>OLS</td>       <th>  Adj. R-squared:    </th> <td>   0.150</td>\n",
       "</tr>\n",
       "<tr>\n",
       "  <th>Method:</th>             <td>Least Squares</td>  <th>  F-statistic:       </th> <td>   43.72</td>\n",
       "</tr>\n",
       "<tr>\n",
       "  <th>Date:</th>             <td>Fri, 25 Sep 2020</td> <th>  Prob (F-statistic):</th> <td>6.04e-41</td>\n",
       "</tr>\n",
       "<tr>\n",
       "  <th>Time:</th>                 <td>18:37:17</td>     <th>  Log-Likelihood:    </th> <td> -2090.8</td>\n",
       "</tr>\n",
       "<tr>\n",
       "  <th>No. Observations:</th>      <td>  1032</td>      <th>  AIC:               </th> <td>   4194.</td>\n",
       "</tr>\n",
       "<tr>\n",
       "  <th>Df Residuals:</th>          <td>  1026</td>      <th>  BIC:               </th> <td>   4223.</td>\n",
       "</tr>\n",
       "<tr>\n",
       "  <th>Df Model:</th>              <td>     5</td>      <th>                     </th>     <td> </td>   \n",
       "</tr>\n",
       "<tr>\n",
       "  <th>Covariance Type:</th>         <td>HC3</td>       <th>                     </th>     <td> </td>   \n",
       "</tr>\n",
       "</table>\n",
       "<table class=\"simpletable\">\n",
       "<tr>\n",
       "       <td></td>          <th>coef</th>     <th>std err</th>      <th>z</th>      <th>P>|z|</th>  <th>[0.025</th>    <th>0.975]</th>  \n",
       "</tr>\n",
       "<tr>\n",
       "  <th>Intercept</th>   <td>    3.7532</td> <td>    0.183</td> <td>   20.507</td> <td> 0.000</td> <td>    3.394</td> <td>    4.112</td>\n",
       "</tr>\n",
       "<tr>\n",
       "  <th>illegal</th>     <td>   -0.1213</td> <td>    0.115</td> <td>   -1.058</td> <td> 0.290</td> <td>   -0.346</td> <td>    0.103</td>\n",
       "</tr>\n",
       "<tr>\n",
       "  <th>somecollege</th> <td>   -0.4429</td> <td>    0.122</td> <td>   -3.644</td> <td> 0.000</td> <td>   -0.681</td> <td>   -0.205</td>\n",
       "</tr>\n",
       "<tr>\n",
       "  <th>Trump</th>       <td>   -0.5962</td> <td>    0.149</td> <td>   -4.009</td> <td> 0.000</td> <td>   -0.888</td> <td>   -0.305</td>\n",
       "</tr>\n",
       "<tr>\n",
       "  <th>Clinton</th>     <td>    0.9987</td> <td>    0.152</td> <td>    6.565</td> <td> 0.000</td> <td>    0.701</td> <td>    1.297</td>\n",
       "</tr>\n",
       "<tr>\n",
       "  <th>White</th>       <td>   -0.6044</td> <td>    0.150</td> <td>   -4.033</td> <td> 0.000</td> <td>   -0.898</td> <td>   -0.311</td>\n",
       "</tr>\n",
       "</table>\n",
       "<table class=\"simpletable\">\n",
       "<tr>\n",
       "  <th>Omnibus:</th>       <td>154.436</td> <th>  Durbin-Watson:     </th> <td>   2.051</td>\n",
       "</tr>\n",
       "<tr>\n",
       "  <th>Prob(Omnibus):</th> <td> 0.000</td>  <th>  Jarque-Bera (JB):  </th> <td>  57.161</td>\n",
       "</tr>\n",
       "<tr>\n",
       "  <th>Skew:</th>          <td> 0.362</td>  <th>  Prob(JB):          </th> <td>3.87e-13</td>\n",
       "</tr>\n",
       "<tr>\n",
       "  <th>Kurtosis:</th>      <td> 2.102</td>  <th>  Cond. No.          </th> <td>    6.26</td>\n",
       "</tr>\n",
       "</table><br/><br/>Warnings:<br/>[1] Standard Errors are heteroscedasticity robust (HC3)"
      ],
      "text/plain": [
       "<class 'statsmodels.iolib.summary.Summary'>\n",
       "\"\"\"\n",
       "                            OLS Regression Results                            \n",
       "==============================================================================\n",
       "Dep. Variable:           ProImmigrant   R-squared:                       0.154\n",
       "Model:                            OLS   Adj. R-squared:                  0.150\n",
       "Method:                 Least Squares   F-statistic:                     43.72\n",
       "Date:                Fri, 25 Sep 2020   Prob (F-statistic):           6.04e-41\n",
       "Time:                        18:37:17   Log-Likelihood:                -2090.8\n",
       "No. Observations:                1032   AIC:                             4194.\n",
       "Df Residuals:                    1026   BIC:                             4223.\n",
       "Df Model:                           5                                         \n",
       "Covariance Type:                  HC3                                         \n",
       "===============================================================================\n",
       "                  coef    std err          z      P>|z|      [0.025      0.975]\n",
       "-------------------------------------------------------------------------------\n",
       "Intercept       3.7532      0.183     20.507      0.000       3.394       4.112\n",
       "illegal        -0.1213      0.115     -1.058      0.290      -0.346       0.103\n",
       "somecollege    -0.4429      0.122     -3.644      0.000      -0.681      -0.205\n",
       "Trump          -0.5962      0.149     -4.009      0.000      -0.888      -0.305\n",
       "Clinton         0.9987      0.152      6.565      0.000       0.701       1.297\n",
       "White          -0.6044      0.150     -4.033      0.000      -0.898      -0.311\n",
       "==============================================================================\n",
       "Omnibus:                      154.436   Durbin-Watson:                   2.051\n",
       "Prob(Omnibus):                  0.000   Jarque-Bera (JB):               57.161\n",
       "Skew:                           0.362   Prob(JB):                     3.87e-13\n",
       "Kurtosis:                       2.102   Cond. No.                         6.26\n",
       "==============================================================================\n",
       "\n",
       "Warnings:\n",
       "[1] Standard Errors are heteroscedasticity robust (HC3)\n",
       "\"\"\""
      ]
     },
     "execution_count": 20,
     "metadata": {},
     "output_type": "execute_result"
    }
   ],
   "source": [
    "# Pro-Immigrant Policy Model with controls and without interaction term\n",
    "support2 = sm.ols(formula=\"ProImmigrant ~ illegal + somecollege + Trump + Clinton + White\", data=data).fit(cov_type = 'HC3')\n",
    "support2.summary()\n"
   ]
  },
  {
   "cell_type": "code",
   "execution_count": 21,
   "metadata": {
    "code_folding": [
     0
    ]
   },
   "outputs": [
    {
     "data": {
      "text/html": [
       "<table class=\"simpletable\">\n",
       "<caption>OLS Regression Results</caption>\n",
       "<tr>\n",
       "  <th>Dep. Variable:</th>      <td>ProImmigrant</td>   <th>  R-squared:         </th> <td>   0.155</td>\n",
       "</tr>\n",
       "<tr>\n",
       "  <th>Model:</th>                   <td>OLS</td>       <th>  Adj. R-squared:    </th> <td>   0.150</td>\n",
       "</tr>\n",
       "<tr>\n",
       "  <th>Method:</th>             <td>Least Squares</td>  <th>  F-statistic:       </th> <td>   31.59</td>\n",
       "</tr>\n",
       "<tr>\n",
       "  <th>Date:</th>             <td>Fri, 25 Sep 2020</td> <th>  Prob (F-statistic):</th> <td>8.12e-40</td>\n",
       "</tr>\n",
       "<tr>\n",
       "  <th>Time:</th>                 <td>18:37:17</td>     <th>  Log-Likelihood:    </th> <td> -2090.1</td>\n",
       "</tr>\n",
       "<tr>\n",
       "  <th>No. Observations:</th>      <td>  1032</td>      <th>  AIC:               </th> <td>   4196.</td>\n",
       "</tr>\n",
       "<tr>\n",
       "  <th>Df Residuals:</th>          <td>  1024</td>      <th>  BIC:               </th> <td>   4236.</td>\n",
       "</tr>\n",
       "<tr>\n",
       "  <th>Df Model:</th>              <td>     7</td>      <th>                     </th>     <td> </td>   \n",
       "</tr>\n",
       "<tr>\n",
       "  <th>Covariance Type:</th>         <td>HC3</td>       <th>                     </th>     <td> </td>   \n",
       "</tr>\n",
       "</table>\n",
       "<table class=\"simpletable\">\n",
       "<tr>\n",
       "           <td></td>             <th>coef</th>     <th>std err</th>      <th>z</th>      <th>P>|z|</th>  <th>[0.025</th>    <th>0.975]</th>  \n",
       "</tr>\n",
       "<tr>\n",
       "  <th>Intercept</th>          <td>    3.4323</td> <td>    0.346</td> <td>    9.921</td> <td> 0.000</td> <td>    2.754</td> <td>    4.110</td>\n",
       "</tr>\n",
       "<tr>\n",
       "  <th>illegal</th>            <td>    0.1099</td> <td>    0.423</td> <td>    0.260</td> <td> 0.795</td> <td>   -0.719</td> <td>    0.939</td>\n",
       "</tr>\n",
       "<tr>\n",
       "  <th>importance</th>         <td>    0.0659</td> <td>    0.059</td> <td>    1.125</td> <td> 0.261</td> <td>   -0.049</td> <td>    0.181</td>\n",
       "</tr>\n",
       "<tr>\n",
       "  <th>illegal:importance</th> <td>   -0.0448</td> <td>    0.081</td> <td>   -0.550</td> <td> 0.582</td> <td>   -0.204</td> <td>    0.115</td>\n",
       "</tr>\n",
       "<tr>\n",
       "  <th>somecollege</th>        <td>   -0.4494</td> <td>    0.122</td> <td>   -3.673</td> <td> 0.000</td> <td>   -0.689</td> <td>   -0.210</td>\n",
       "</tr>\n",
       "<tr>\n",
       "  <th>Trump</th>              <td>   -0.6377</td> <td>    0.155</td> <td>   -4.124</td> <td> 0.000</td> <td>   -0.941</td> <td>   -0.335</td>\n",
       "</tr>\n",
       "<tr>\n",
       "  <th>Clinton</th>            <td>    0.9854</td> <td>    0.153</td> <td>    6.453</td> <td> 0.000</td> <td>    0.686</td> <td>    1.285</td>\n",
       "</tr>\n",
       "<tr>\n",
       "  <th>White</th>              <td>   -0.5980</td> <td>    0.151</td> <td>   -3.973</td> <td> 0.000</td> <td>   -0.893</td> <td>   -0.303</td>\n",
       "</tr>\n",
       "</table>\n",
       "<table class=\"simpletable\">\n",
       "<tr>\n",
       "  <th>Omnibus:</th>       <td>165.057</td> <th>  Durbin-Watson:     </th> <td>   2.050</td>\n",
       "</tr>\n",
       "<tr>\n",
       "  <th>Prob(Omnibus):</th> <td> 0.000</td>  <th>  Jarque-Bera (JB):  </th> <td>  57.288</td>\n",
       "</tr>\n",
       "<tr>\n",
       "  <th>Skew:</th>          <td> 0.352</td>  <th>  Prob(JB):          </th> <td>3.63e-13</td>\n",
       "</tr>\n",
       "<tr>\n",
       "  <th>Kurtosis:</th>      <td> 2.085</td>  <th>  Cond. No.          </th> <td>    52.3</td>\n",
       "</tr>\n",
       "</table><br/><br/>Warnings:<br/>[1] Standard Errors are heteroscedasticity robust (HC3)"
      ],
      "text/plain": [
       "<class 'statsmodels.iolib.summary.Summary'>\n",
       "\"\"\"\n",
       "                            OLS Regression Results                            \n",
       "==============================================================================\n",
       "Dep. Variable:           ProImmigrant   R-squared:                       0.155\n",
       "Model:                            OLS   Adj. R-squared:                  0.150\n",
       "Method:                 Least Squares   F-statistic:                     31.59\n",
       "Date:                Fri, 25 Sep 2020   Prob (F-statistic):           8.12e-40\n",
       "Time:                        18:37:17   Log-Likelihood:                -2090.1\n",
       "No. Observations:                1032   AIC:                             4196.\n",
       "Df Residuals:                    1024   BIC:                             4236.\n",
       "Df Model:                           7                                         \n",
       "Covariance Type:                  HC3                                         \n",
       "======================================================================================\n",
       "                         coef    std err          z      P>|z|      [0.025      0.975]\n",
       "--------------------------------------------------------------------------------------\n",
       "Intercept              3.4323      0.346      9.921      0.000       2.754       4.110\n",
       "illegal                0.1099      0.423      0.260      0.795      -0.719       0.939\n",
       "importance             0.0659      0.059      1.125      0.261      -0.049       0.181\n",
       "illegal:importance    -0.0448      0.081     -0.550      0.582      -0.204       0.115\n",
       "somecollege           -0.4494      0.122     -3.673      0.000      -0.689      -0.210\n",
       "Trump                 -0.6377      0.155     -4.124      0.000      -0.941      -0.335\n",
       "Clinton                0.9854      0.153      6.453      0.000       0.686       1.285\n",
       "White                 -0.5980      0.151     -3.973      0.000      -0.893      -0.303\n",
       "==============================================================================\n",
       "Omnibus:                      165.057   Durbin-Watson:                   2.050\n",
       "Prob(Omnibus):                  0.000   Jarque-Bera (JB):               57.288\n",
       "Skew:                           0.352   Prob(JB):                     3.63e-13\n",
       "Kurtosis:                       2.085   Cond. No.                         52.3\n",
       "==============================================================================\n",
       "\n",
       "Warnings:\n",
       "[1] Standard Errors are heteroscedasticity robust (HC3)\n",
       "\"\"\""
      ]
     },
     "execution_count": 21,
     "metadata": {},
     "output_type": "execute_result"
    }
   ],
   "source": [
    "# Pro-Immigrant Policy Model with controls and with interaction term\n",
    "support3 = sm.ols(formula=\"ProImmigrant ~ illegal*importance + somecollege + Trump + Clinton + White\", data=data).fit(cov_type = 'HC3')\n",
    "support3.summary()\n",
    "\n"
   ]
  },
  {
   "cell_type": "markdown",
   "metadata": {},
   "source": [
    "##### Agreement with the Statement that Immigrants are Inherently Good People Models"
   ]
  },
  {
   "cell_type": "code",
   "execution_count": 22,
   "metadata": {
    "code_folding": []
   },
   "outputs": [
    {
     "data": {
      "text/html": [
       "<table class=\"simpletable\">\n",
       "<caption>OLS Regression Results</caption>\n",
       "<tr>\n",
       "  <th>Dep. Variable:</th>     <td>InherentlyGood</td>  <th>  R-squared:         </th> <td>   0.000</td>\n",
       "</tr>\n",
       "<tr>\n",
       "  <th>Model:</th>                   <td>OLS</td>       <th>  Adj. R-squared:    </th> <td>  -0.001</td>\n",
       "</tr>\n",
       "<tr>\n",
       "  <th>Method:</th>             <td>Least Squares</td>  <th>  F-statistic:       </th> <td> 0.08108</td>\n",
       "</tr>\n",
       "<tr>\n",
       "  <th>Date:</th>             <td>Fri, 25 Sep 2020</td> <th>  Prob (F-statistic):</th>  <td> 0.776</td> \n",
       "</tr>\n",
       "<tr>\n",
       "  <th>Time:</th>                 <td>18:37:17</td>     <th>  Log-Likelihood:    </th> <td> -1951.7</td>\n",
       "</tr>\n",
       "<tr>\n",
       "  <th>No. Observations:</th>      <td>  1032</td>      <th>  AIC:               </th> <td>   3907.</td>\n",
       "</tr>\n",
       "<tr>\n",
       "  <th>Df Residuals:</th>          <td>  1030</td>      <th>  BIC:               </th> <td>   3917.</td>\n",
       "</tr>\n",
       "<tr>\n",
       "  <th>Df Model:</th>              <td>     1</td>      <th>                     </th>     <td> </td>   \n",
       "</tr>\n",
       "<tr>\n",
       "  <th>Covariance Type:</th>         <td>HC3</td>       <th>                     </th>     <td> </td>   \n",
       "</tr>\n",
       "</table>\n",
       "<table class=\"simpletable\">\n",
       "<tr>\n",
       "      <td></td>         <th>coef</th>     <th>std err</th>      <th>z</th>      <th>P>|z|</th>  <th>[0.025</th>    <th>0.975]</th>  \n",
       "</tr>\n",
       "<tr>\n",
       "  <th>Intercept</th> <td>    4.6151</td> <td>    0.071</td> <td>   64.722</td> <td> 0.000</td> <td>    4.475</td> <td>    4.755</td>\n",
       "</tr>\n",
       "<tr>\n",
       "  <th>illegal</th>   <td>   -0.0285</td> <td>    0.100</td> <td>   -0.285</td> <td> 0.776</td> <td>   -0.225</td> <td>    0.168</td>\n",
       "</tr>\n",
       "</table>\n",
       "<table class=\"simpletable\">\n",
       "<tr>\n",
       "  <th>Omnibus:</th>       <td>34.414</td> <th>  Durbin-Watson:     </th> <td>   1.907</td>\n",
       "</tr>\n",
       "<tr>\n",
       "  <th>Prob(Omnibus):</th> <td> 0.000</td> <th>  Jarque-Bera (JB):  </th> <td>  29.871</td>\n",
       "</tr>\n",
       "<tr>\n",
       "  <th>Skew:</th>          <td>-0.351</td> <th>  Prob(JB):          </th> <td>3.26e-07</td>\n",
       "</tr>\n",
       "<tr>\n",
       "  <th>Kurtosis:</th>      <td> 2.549</td> <th>  Cond. No.          </th> <td>    2.61</td>\n",
       "</tr>\n",
       "</table><br/><br/>Warnings:<br/>[1] Standard Errors are heteroscedasticity robust (HC3)"
      ],
      "text/plain": [
       "<class 'statsmodels.iolib.summary.Summary'>\n",
       "\"\"\"\n",
       "                            OLS Regression Results                            \n",
       "==============================================================================\n",
       "Dep. Variable:         InherentlyGood   R-squared:                       0.000\n",
       "Model:                            OLS   Adj. R-squared:                 -0.001\n",
       "Method:                 Least Squares   F-statistic:                   0.08108\n",
       "Date:                Fri, 25 Sep 2020   Prob (F-statistic):              0.776\n",
       "Time:                        18:37:17   Log-Likelihood:                -1951.7\n",
       "No. Observations:                1032   AIC:                             3907.\n",
       "Df Residuals:                    1030   BIC:                             3917.\n",
       "Df Model:                           1                                         \n",
       "Covariance Type:                  HC3                                         \n",
       "==============================================================================\n",
       "                 coef    std err          z      P>|z|      [0.025      0.975]\n",
       "------------------------------------------------------------------------------\n",
       "Intercept      4.6151      0.071     64.722      0.000       4.475       4.755\n",
       "illegal       -0.0285      0.100     -0.285      0.776      -0.225       0.168\n",
       "==============================================================================\n",
       "Omnibus:                       34.414   Durbin-Watson:                   1.907\n",
       "Prob(Omnibus):                  0.000   Jarque-Bera (JB):               29.871\n",
       "Skew:                          -0.351   Prob(JB):                     3.26e-07\n",
       "Kurtosis:                       2.549   Cond. No.                         2.61\n",
       "==============================================================================\n",
       "\n",
       "Warnings:\n",
       "[1] Standard Errors are heteroscedasticity robust (HC3)\n",
       "\"\"\""
      ]
     },
     "execution_count": 22,
     "metadata": {},
     "output_type": "execute_result"
    }
   ],
   "source": [
    "# Inherently Good Model without controls \n",
    "good1 = sm.ols(formula=\"InherentlyGood ~ illegal\", data=data).fit(cov_type = 'HC3')\n",
    "good1.summary()"
   ]
  },
  {
   "cell_type": "code",
   "execution_count": 23,
   "metadata": {
    "code_folding": []
   },
   "outputs": [
    {
     "data": {
      "text/html": [
       "<table class=\"simpletable\">\n",
       "<caption>OLS Regression Results</caption>\n",
       "<tr>\n",
       "  <th>Dep. Variable:</th>     <td>InherentlyGood</td>  <th>  R-squared:         </th> <td>   0.094</td>\n",
       "</tr>\n",
       "<tr>\n",
       "  <th>Model:</th>                   <td>OLS</td>       <th>  Adj. R-squared:    </th> <td>   0.090</td>\n",
       "</tr>\n",
       "<tr>\n",
       "  <th>Method:</th>             <td>Least Squares</td>  <th>  F-statistic:       </th> <td>   26.59</td>\n",
       "</tr>\n",
       "<tr>\n",
       "  <th>Date:</th>             <td>Fri, 25 Sep 2020</td> <th>  Prob (F-statistic):</th> <td>5.17e-21</td>\n",
       "</tr>\n",
       "<tr>\n",
       "  <th>Time:</th>                 <td>18:37:17</td>     <th>  Log-Likelihood:    </th> <td> -1900.8</td>\n",
       "</tr>\n",
       "<tr>\n",
       "  <th>No. Observations:</th>      <td>  1032</td>      <th>  AIC:               </th> <td>   3812.</td>\n",
       "</tr>\n",
       "<tr>\n",
       "  <th>Df Residuals:</th>          <td>  1027</td>      <th>  BIC:               </th> <td>   3836.</td>\n",
       "</tr>\n",
       "<tr>\n",
       "  <th>Df Model:</th>              <td>     4</td>      <th>                     </th>     <td> </td>   \n",
       "</tr>\n",
       "<tr>\n",
       "  <th>Covariance Type:</th>         <td>HC3</td>       <th>                     </th>     <td> </td>   \n",
       "</tr>\n",
       "</table>\n",
       "<table class=\"simpletable\">\n",
       "<tr>\n",
       "      <td></td>         <th>coef</th>     <th>std err</th>      <th>z</th>      <th>P>|z|</th>  <th>[0.025</th>    <th>0.975]</th>  \n",
       "</tr>\n",
       "<tr>\n",
       "  <th>Intercept</th> <td>    4.4841</td> <td>    0.109</td> <td>   41.251</td> <td> 0.000</td> <td>    4.271</td> <td>    4.697</td>\n",
       "</tr>\n",
       "<tr>\n",
       "  <th>illegal</th>   <td>   -0.0273</td> <td>    0.096</td> <td>   -0.285</td> <td> 0.776</td> <td>   -0.215</td> <td>    0.160</td>\n",
       "</tr>\n",
       "<tr>\n",
       "  <th>Masters</th>   <td>    0.3447</td> <td>    0.135</td> <td>    2.553</td> <td> 0.011</td> <td>    0.080</td> <td>    0.609</td>\n",
       "</tr>\n",
       "<tr>\n",
       "  <th>Trump</th>     <td>   -0.4641</td> <td>    0.127</td> <td>   -3.667</td> <td> 0.000</td> <td>   -0.712</td> <td>   -0.216</td>\n",
       "</tr>\n",
       "<tr>\n",
       "  <th>Clinton</th>   <td>    0.6405</td> <td>    0.120</td> <td>    5.337</td> <td> 0.000</td> <td>    0.405</td> <td>    0.876</td>\n",
       "</tr>\n",
       "</table>\n",
       "<table class=\"simpletable\">\n",
       "<tr>\n",
       "  <th>Omnibus:</th>       <td>31.467</td> <th>  Durbin-Watson:     </th> <td>   1.930</td>\n",
       "</tr>\n",
       "<tr>\n",
       "  <th>Prob(Omnibus):</th> <td> 0.000</td> <th>  Jarque-Bera (JB):  </th> <td>  27.005</td>\n",
       "</tr>\n",
       "<tr>\n",
       "  <th>Skew:</th>          <td>-0.328</td> <th>  Prob(JB):          </th> <td>1.37e-06</td>\n",
       "</tr>\n",
       "<tr>\n",
       "  <th>Kurtosis:</th>      <td> 2.556</td> <th>  Cond. No.          </th> <td>    4.72</td>\n",
       "</tr>\n",
       "</table><br/><br/>Warnings:<br/>[1] Standard Errors are heteroscedasticity robust (HC3)"
      ],
      "text/plain": [
       "<class 'statsmodels.iolib.summary.Summary'>\n",
       "\"\"\"\n",
       "                            OLS Regression Results                            \n",
       "==============================================================================\n",
       "Dep. Variable:         InherentlyGood   R-squared:                       0.094\n",
       "Model:                            OLS   Adj. R-squared:                  0.090\n",
       "Method:                 Least Squares   F-statistic:                     26.59\n",
       "Date:                Fri, 25 Sep 2020   Prob (F-statistic):           5.17e-21\n",
       "Time:                        18:37:17   Log-Likelihood:                -1900.8\n",
       "No. Observations:                1032   AIC:                             3812.\n",
       "Df Residuals:                    1027   BIC:                             3836.\n",
       "Df Model:                           4                                         \n",
       "Covariance Type:                  HC3                                         \n",
       "==============================================================================\n",
       "                 coef    std err          z      P>|z|      [0.025      0.975]\n",
       "------------------------------------------------------------------------------\n",
       "Intercept      4.4841      0.109     41.251      0.000       4.271       4.697\n",
       "illegal       -0.0273      0.096     -0.285      0.776      -0.215       0.160\n",
       "Masters        0.3447      0.135      2.553      0.011       0.080       0.609\n",
       "Trump         -0.4641      0.127     -3.667      0.000      -0.712      -0.216\n",
       "Clinton        0.6405      0.120      5.337      0.000       0.405       0.876\n",
       "==============================================================================\n",
       "Omnibus:                       31.467   Durbin-Watson:                   1.930\n",
       "Prob(Omnibus):                  0.000   Jarque-Bera (JB):               27.005\n",
       "Skew:                          -0.328   Prob(JB):                     1.37e-06\n",
       "Kurtosis:                       2.556   Cond. No.                         4.72\n",
       "==============================================================================\n",
       "\n",
       "Warnings:\n",
       "[1] Standard Errors are heteroscedasticity robust (HC3)\n",
       "\"\"\""
      ]
     },
     "execution_count": 23,
     "metadata": {},
     "output_type": "execute_result"
    }
   ],
   "source": [
    "# Inherently Good Model with controls and without interaction term\n",
    "good2 = sm.ols(formula=\"InherentlyGood ~ illegal + Masters + Trump + Clinton\", data=data).fit(cov_type = 'HC3')\n",
    "good2.summary()\n"
   ]
  },
  {
   "cell_type": "code",
   "execution_count": 24,
   "metadata": {
    "code_folding": []
   },
   "outputs": [
    {
     "data": {
      "text/html": [
       "<table class=\"simpletable\">\n",
       "<caption>OLS Regression Results</caption>\n",
       "<tr>\n",
       "  <th>Dep. Variable:</th>     <td>InherentlyGood</td>  <th>  R-squared:         </th> <td>   0.096</td>\n",
       "</tr>\n",
       "<tr>\n",
       "  <th>Model:</th>                   <td>OLS</td>       <th>  Adj. R-squared:    </th> <td>   0.091</td>\n",
       "</tr>\n",
       "<tr>\n",
       "  <th>Method:</th>             <td>Least Squares</td>  <th>  F-statistic:       </th> <td>   18.44</td>\n",
       "</tr>\n",
       "<tr>\n",
       "  <th>Date:</th>             <td>Fri, 25 Sep 2020</td> <th>  Prob (F-statistic):</th> <td>2.00e-20</td>\n",
       "</tr>\n",
       "<tr>\n",
       "  <th>Time:</th>                 <td>18:37:17</td>     <th>  Log-Likelihood:    </th> <td> -1899.4</td>\n",
       "</tr>\n",
       "<tr>\n",
       "  <th>No. Observations:</th>      <td>  1032</td>      <th>  AIC:               </th> <td>   3813.</td>\n",
       "</tr>\n",
       "<tr>\n",
       "  <th>Df Residuals:</th>          <td>  1025</td>      <th>  BIC:               </th> <td>   3847.</td>\n",
       "</tr>\n",
       "<tr>\n",
       "  <th>Df Model:</th>              <td>     6</td>      <th>                     </th>     <td> </td>   \n",
       "</tr>\n",
       "<tr>\n",
       "  <th>Covariance Type:</th>         <td>HC3</td>       <th>                     </th>     <td> </td>   \n",
       "</tr>\n",
       "</table>\n",
       "<table class=\"simpletable\">\n",
       "<tr>\n",
       "           <td></td>             <th>coef</th>     <th>std err</th>      <th>z</th>      <th>P>|z|</th>  <th>[0.025</th>    <th>0.975]</th>  \n",
       "</tr>\n",
       "<tr>\n",
       "  <th>Intercept</th>          <td>    4.2588</td> <td>    0.274</td> <td>   15.532</td> <td> 0.000</td> <td>    3.721</td> <td>    4.796</td>\n",
       "</tr>\n",
       "<tr>\n",
       "  <th>illegal</th>            <td>   -0.0835</td> <td>    0.369</td> <td>   -0.227</td> <td> 0.821</td> <td>   -0.806</td> <td>    0.639</td>\n",
       "</tr>\n",
       "<tr>\n",
       "  <th>importance</th>         <td>    0.0490</td> <td>    0.052</td> <td>    0.945</td> <td> 0.344</td> <td>   -0.053</td> <td>    0.151</td>\n",
       "</tr>\n",
       "<tr>\n",
       "  <th>illegal:importance</th> <td>    0.0119</td> <td>    0.072</td> <td>    0.166</td> <td> 0.868</td> <td>   -0.128</td> <td>    0.152</td>\n",
       "</tr>\n",
       "<tr>\n",
       "  <th>Masters</th>            <td>    0.3414</td> <td>    0.135</td> <td>    2.536</td> <td> 0.011</td> <td>    0.078</td> <td>    0.605</td>\n",
       "</tr>\n",
       "<tr>\n",
       "  <th>Trump</th>              <td>   -0.5198</td> <td>    0.130</td> <td>   -4.014</td> <td> 0.000</td> <td>   -0.774</td> <td>   -0.266</td>\n",
       "</tr>\n",
       "<tr>\n",
       "  <th>Clinton</th>            <td>    0.6272</td> <td>    0.120</td> <td>    5.221</td> <td> 0.000</td> <td>    0.392</td> <td>    0.863</td>\n",
       "</tr>\n",
       "</table>\n",
       "<table class=\"simpletable\">\n",
       "<tr>\n",
       "  <th>Omnibus:</th>       <td>32.184</td> <th>  Durbin-Watson:     </th> <td>   1.930</td>\n",
       "</tr>\n",
       "<tr>\n",
       "  <th>Prob(Omnibus):</th> <td> 0.000</td> <th>  Jarque-Bera (JB):  </th> <td>  28.163</td>\n",
       "</tr>\n",
       "<tr>\n",
       "  <th>Skew:</th>          <td>-0.341</td> <th>  Prob(JB):          </th> <td>7.66e-07</td>\n",
       "</tr>\n",
       "<tr>\n",
       "  <th>Kurtosis:</th>      <td> 2.564</td> <th>  Cond. No.          </th> <td>    51.2</td>\n",
       "</tr>\n",
       "</table><br/><br/>Warnings:<br/>[1] Standard Errors are heteroscedasticity robust (HC3)"
      ],
      "text/plain": [
       "<class 'statsmodels.iolib.summary.Summary'>\n",
       "\"\"\"\n",
       "                            OLS Regression Results                            \n",
       "==============================================================================\n",
       "Dep. Variable:         InherentlyGood   R-squared:                       0.096\n",
       "Model:                            OLS   Adj. R-squared:                  0.091\n",
       "Method:                 Least Squares   F-statistic:                     18.44\n",
       "Date:                Fri, 25 Sep 2020   Prob (F-statistic):           2.00e-20\n",
       "Time:                        18:37:17   Log-Likelihood:                -1899.4\n",
       "No. Observations:                1032   AIC:                             3813.\n",
       "Df Residuals:                    1025   BIC:                             3847.\n",
       "Df Model:                           6                                         \n",
       "Covariance Type:                  HC3                                         \n",
       "======================================================================================\n",
       "                         coef    std err          z      P>|z|      [0.025      0.975]\n",
       "--------------------------------------------------------------------------------------\n",
       "Intercept              4.2588      0.274     15.532      0.000       3.721       4.796\n",
       "illegal               -0.0835      0.369     -0.227      0.821      -0.806       0.639\n",
       "importance             0.0490      0.052      0.945      0.344      -0.053       0.151\n",
       "illegal:importance     0.0119      0.072      0.166      0.868      -0.128       0.152\n",
       "Masters                0.3414      0.135      2.536      0.011       0.078       0.605\n",
       "Trump                 -0.5198      0.130     -4.014      0.000      -0.774      -0.266\n",
       "Clinton                0.6272      0.120      5.221      0.000       0.392       0.863\n",
       "==============================================================================\n",
       "Omnibus:                       32.184   Durbin-Watson:                   1.930\n",
       "Prob(Omnibus):                  0.000   Jarque-Bera (JB):               28.163\n",
       "Skew:                          -0.341   Prob(JB):                     7.66e-07\n",
       "Kurtosis:                       2.564   Cond. No.                         51.2\n",
       "==============================================================================\n",
       "\n",
       "Warnings:\n",
       "[1] Standard Errors are heteroscedasticity robust (HC3)\n",
       "\"\"\""
      ]
     },
     "execution_count": 24,
     "metadata": {},
     "output_type": "execute_result"
    }
   ],
   "source": [
    "# Inherently Good Model with controls and with interaction term\n",
    "good3 = sm.ols(formula=\"InherentlyGood ~ illegal*importance + Masters + Trump + Clinton\", data=data).fit(cov_type = 'HC3')\n",
    "good3.summary()\n"
   ]
  },
  {
   "cell_type": "markdown",
   "metadata": {},
   "source": [
    "##### Conclusions"
   ]
  },
  {
   "cell_type": "markdown",
   "metadata": {},
   "source": [
    "The use of one term over the other is not a significant predictor in any of the models. This suggests that using the term \"illegal immigrant\" over the term \"undocumented immigrant\" does not affect people's views on pro-immigrant policies, people's views on anti-immigrant policies, or people's propensity to dehumanize immigrants. \n",
    "\n",
    "Additionally, the theory that the effect of using one term over the other is greatest for those who do not care as much about immigration is not supported by these results. Each interaction term between a given measure and the importance that people placed on the issue of immigration is insignificant. \n",
    "\n",
    "In my mind, there is one key takeaway from the corpus data and the survey data: While using the term \"illegal immigrant\" over \"undocumented immigrant\" is unlikely to sway people's opinions about immigration policy, it is an effective way of signaling one's own political leaning. "
   ]
  }
 ],
 "metadata": {
  "kernelspec": {
   "display_name": "Python 3",
   "language": "python",
   "name": "python3"
  },
  "language_info": {
   "codemirror_mode": {
    "name": "ipython",
    "version": 3
   },
   "file_extension": ".py",
   "mimetype": "text/x-python",
   "name": "python",
   "nbconvert_exporter": "python",
   "pygments_lexer": "ipython3",
   "version": "3.8.2"
  }
 },
 "nbformat": 4,
 "nbformat_minor": 2
}
